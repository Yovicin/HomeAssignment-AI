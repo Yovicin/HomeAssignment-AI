{
 "cells": [
  {
   "cell_type": "markdown",
   "metadata": {},
   "source": [
    "## Practical 3 \n",
    "### 11510726 毛煦冰"
   ]
  },
  {
   "cell_type": "markdown",
   "metadata": {},
   "source": [
    "##### Which of the following are true and which are false? Give brief explanations.\n",
    "a. True. because fully observe and perfectly rational players，so player2 will move optimally. So moves are predictable."
   ]
  },
  {
   "cell_type": "markdown",
   "metadata": {},
   "source": [
    "b. False. Knowing what the second players' move can help the first player get some information about player2's goal which is only known by the second player."
   ]
  },
  {
   "cell_type": "markdown",
   "metadata": {},
   "source": [
    "c. False. Your opponent may get better choice."
   ]
  },
  {
   "cell_type": "markdown",
   "metadata": {},
   "source": [
    "##### Define in your own words the terms constraint, backtracking search, arc consistency,backjumping, min-conflicts, and cycle cutset.\n",
    "**Constrain** restrict possible values in seveal variables."
   ]
  },
  {
   "cell_type": "markdown",
   "metadata": {},
   "source": [
    "**Backtracking search** Go ahead (update each successor) if it can continue, and if there is a dead end, it will get back and try another path."
   ]
  },
  {
   "cell_type": "markdown",
   "metadata": {},
   "source": [
    "**Arc consistency**： For variables X1,X2, if each value in Domain1 has some value in Domain2 satisfying the binary constraint of the arc (X1, X2), we say X1 is arc consistent with X2."
   ]
  },
  {
   "cell_type": "markdown",
   "metadata": {},
   "source": [
    "**Backjumping** is when dead end happens, a method that can jump back more that one step which can make backtracking search more efficient."
   ]
  },
  {
   "cell_type": "markdown",
   "metadata": {},
   "source": [
    "**Min-conflicts** is when given varibale need to modify, min-conflict choose the value which havs minimal number conflict with it."
   ]
  },
  {
   "cell_type": "markdown",
   "metadata": {},
   "source": [
    "**cycle cutset** variables cut from constraint graph and make it acyclic."
   ]
  },
  {
   "cell_type": "markdown",
   "metadata": {},
   "source": [
    "##### Explain why it is a good heuristic to choose the variable that is most constrained but the value that is least constraining in a CSP search.\n",
    "**The variable that is most constrained:** Choose a variable likely lead to fail, can make fail as early as possible in order to shrink the search space more quickly."
   ]
  },
  {
   "cell_type": "markdown",
   "metadata": {},
   "source": [
    "**Least constraining in a CSP search:** It provide more chances (most chance) to avoid conflit."
   ]
  },
  {
   "cell_type": "markdown",
   "metadata": {},
   "source": [
    "##### Consider the following procedure for choosing moves in games with chance nodes. Will this procedure work well? Why (or why not)?\n",
    "This procedure will not work well. The procedure assuming the amount of the dice rolls is equal to the average commutes with min and max but accutually it is not.\n",
    "**Reference: Solution in QQ Group. Cannot understand what is commute**"
   ]
  },
  {
   "cell_type": "markdown",
   "metadata": {},
   "source": [
    "##### Minimax algorithm game\n",
    "we can divide A in to 1,20 20,50 1,50. B into 5,10 10,100 5,100. C into 1,5 5,20 1,20. A first will choice A plate and then B want to minimal A's revenue, so B will choose 1,20 and then A can take 20 away. In this way, A can get max banknotes."
   ]
  },
  {
   "cell_type": "markdown",
   "metadata": {},
   "source": [
    "### Programming Excercises\n",
    "##### Guess Number"
   ]
  },
  {
   "cell_type": "code",
   "execution_count": 3,
   "metadata": {},
   "outputs": [
    {
     "name": "stdout",
     "output_type": "stream",
     "text": [
      "Your Guess: 500\n",
      "Smaller than random number.\n",
      "Your Guess: 600\n",
      "Smaller than random number.\n",
      "Your Guess: 800\n",
      "Smaller than random number.\n",
      "Your Guess: 900\n",
      "Larger than random number.\n",
      "Your Guess: 850\n",
      "Larger than random number.\n",
      "Your Guess: 825\n",
      "Smaller than random number.\n",
      "Your Guess: 830\n",
      "Smaller than random number.\n",
      "Your Guess: 840\n",
      "Smaller than random number.\n",
      "Your Guess: 845\n",
      "You are right, the num is 845\n"
     ]
    }
   ],
   "source": [
    "import random\n",
    "ran_num = random.randint(0,999)\n",
    "gus_num = -1\n",
    "while not gus_num == ran_num :\n",
    "    gus_num = input('Your Guess: ')\n",
    "    if(int(gus_num)>ran_num):\n",
    "        print('Larger than random number.')\n",
    "    if(int(gus_num)<ran_num):\n",
    "        print('Smaller than random number.')\n",
    "    if(int(gus_num)==ran_num):\n",
    "        print('You are right, the num is {}'.format(gus_num))\n",
    "        break"
   ]
  },
  {
   "cell_type": "markdown",
   "metadata": {},
   "source": [
    "##### Guess 3 numbers."
   ]
  },
  {
   "cell_type": "code",
   "execution_count": 6,
   "metadata": {},
   "outputs": [
    {
     "name": "stdout",
     "output_type": "stream",
     "text": [
      "389\n",
      "This is the 1 time:763\n",
      "['Error', 'Error', 'Only the number is right']\n",
      "This is the 2 time:379\n",
      "['Absolutely right', 'Error', 'Absolutely right']\n",
      "This is the 3 time:389\n",
      "Congratulations!\n",
      "Do you want to play again?(yes or no):no\n"
     ]
    }
   ],
   "source": [
    "import random\n",
    "con = 'yes'\n",
    "while con=='yes':\n",
    "    random = random.randint(100,999)\n",
    "    print(random)\n",
    "    strand = str(random)\n",
    "    for i in range(0,10):\n",
    "        state=[]\n",
    "        guess = input('This is the {} time:'.format(i+1))\n",
    "        if(guess[1]==strand[1] and guess[2]==strand[2] and guess[0]==strand[0]):\n",
    "            print('Congratulations!')\n",
    "            con = input('Do you want to play again?(yes or no):')\n",
    "            break\n",
    "        for i in range(len(guess)):\n",
    "            if(guess[i]==strand[0] or guess[i]==strand[1] or guess[i]==strand[2]):\n",
    "                if(guess[i]==strand[i]):\n",
    "                    state.append('Absolutely right')\n",
    "                else:\n",
    "                    state.append('Only the number is right')\n",
    "        \n",
    "            else:\n",
    "                state.append('Error')\n",
    "        print(state)\n",
    "        "
   ]
  },
  {
   "cell_type": "markdown",
   "metadata": {},
   "source": [
    "##### please try using Python's Tkinter to make a visual interface（GUI）.if you don't know anything.Maybe you can refer to the below interface.and implement it by code."
   ]
  },
  {
   "cell_type": "code",
   "execution_count": 1,
   "metadata": {},
   "outputs": [],
   "source": [
    "from tkinter import *\n",
    "top = Tk()\n",
    "A = ['C','python','php','html','SQL','java']\n",
    "B = ['CSS','jQuery','Bootstrap']\n",
    "listbox1 = Listbox(top,selectmode = BROWSE)\n",
    "listbox2 = Listbox(top,selectmode = BROWSE)\n",
    "for i in A:\n",
    "    listbox1.insert(END,i)\n",
    "for i in B:\n",
    "    listbox2.insert(END,i)\n",
    "listbox1.pack(side=LEFT)\n",
    "listbox2.pack(side=RIGHT)\n",
    "#listbox1.bind('<Double-Button-1>',move)\n",
    "    \n",
    "top.mainloop()"
   ]
  },
  {
   "cell_type": "markdown",
   "metadata": {},
   "source": [
    "##### Through the initial trial of Tkinter, please write a simple calculator."
   ]
  },
  {
   "cell_type": "code",
   "execution_count": 24,
   "metadata": {},
   "outputs": [],
   "source": [
    "from tkinter import *\n",
    "def delete():\n",
    "    display.set(display.get()[:-1])\n",
    "def calcu(str1):\n",
    "    try:\n",
    "        display.set(eval(str1))\n",
    "    except:\n",
    "        display.set(\"ERROR\")\n",
    "\n",
    "cal = Tk()\n",
    "display = StringVar()\n",
    "display.set('')\n",
    "#cal.resizable(500,500)\n",
    "framelabel = Frame(cal)\n",
    "Entry = Entry(framelabel,textvariable = display,borderwidth=27,font=(\"Arial, 20\")).pack()\n",
    "buttonframe = Frame(cal)\n",
    "c = Button(buttonframe,text='C',height=2,width=9,command=lambda w = display:w.set('')).grid(row=0,column=0)\n",
    "change = Button(buttonframe,text='±',height=2,width=9,command=lambda w = display, c = chr:w.set('-'+w.get())).grid(row=0,column=1)\n",
    "delete = Button(buttonframe,text='←',height=2,width=9,command = lambda w = display, c = chr:w.set(w.get()[:-1])).grid(row=0,column=2)\n",
    "CE = Button(buttonframe,text='CE',height=2,width=9,command=lambda w = display:w.set('')).grid(row=0,column=3)\n",
    "but1 = Button(buttonframe,text='1',height=4,width=9,command=lambda w = display, c = chr:w.set(w.get() + '1')).grid(row=1,column=0)\n",
    "but2 = Button(buttonframe,text='2',height=4,width=9,command=lambda w = display, c = chr:w.set(w.get() + '2')).grid(row=1,column=1)\n",
    "but3 = Button(buttonframe,text='3',height=4,width=9,command=lambda w = display, c = chr:w.set(w.get() + '3')).grid(row=1,column=2)\n",
    "but4 = Button(buttonframe,text='4',height=4,width=9,command=lambda w = display, c = chr:w.set(w.get() + '4')).grid(row=1,column=3)\n",
    "but5 = Button(buttonframe,text='5',height=4,width=9,command=lambda w = display, c = chr:w.set(w.get() + '5')).grid(row=2,column=0)\n",
    "but6 = Button(buttonframe,text='6',height=4,width=9,command=lambda w = display, c = chr:w.set(w.get() + '6')).grid(row=2,column=1)\n",
    "but7 = Button(buttonframe,text='7',height=4,width=9,command=lambda w = display, c = chr:w.set(w.get() + '7')).grid(row=2,column=2)\n",
    "but8 = Button(buttonframe,text='8',height=4,width=9,command=lambda w = display, c = chr:w.set(w.get() + '8')).grid(row=2,column=3)\n",
    "but9 = Button(buttonframe,text='9',height=4,width=9,command=lambda w = display, c = chr:w.set(w.get() + '9')).grid(row=3,column=1)\n",
    "but0 = Button(buttonframe,text='0',height=4,width=9,command=lambda w = display, c = chr:w.set(w.get() + '0')).grid(row=3,column=2)\n",
    "point = Button(buttonframe,text='.',height=4,width=9,command=lambda w = display, c = chr:w.set(w.get() + '.')).grid(row=3,column=0)\n",
    "plus = Button(buttonframe,text='+',height=4,width=9,command=lambda w = display, c = chr:w.set(w.get() + '+')).grid(row=4,column=0)\n",
    "minus = Button(buttonframe,text='-',height=4,width=9,command=lambda w = display, c = chr:w.set(w.get() + '-')).grid(row=4,column=1)\n",
    "mult = Button(buttonframe,text='*',height=4,width=9,command=lambda w = display, c = chr:w.set(w.get() + '*')).grid(row=4,column=2)\n",
    "divi = Button(buttonframe,text='/',height=4,width=9,command=lambda w = display, c = chr:w.set(w.get() + '/')).grid(row=4,column=3)\n",
    "equal = Button(buttonframe,text='=',height=4,width=9,command=lambda:calcu(display.get())).grid(row=3,column=3)\n",
    "\n",
    "\n",
    "framelabel.pack(side=TOP)\n",
    "buttonframe.pack(side=BOTTOM)\n",
    "\n",
    "cal.mainloop()"
   ]
  },
  {
   "cell_type": "markdown",
   "metadata": {},
   "source": [
    "##### Ball game:Python's pinball game, which can realize the game function of the keyboard control bottom baffle moving collision ball similar to table tennis game."
   ]
  },
  {
   "cell_type": "code",
   "execution_count": 3,
   "metadata": {},
   "outputs": [
    {
     "ename": "TclError",
     "evalue": "invalid command name \".!canvas\"",
     "output_type": "error",
     "traceback": [
      "\u001b[0;31m---------------------------------------------------------------------------\u001b[0m",
      "\u001b[0;31mTclError\u001b[0m                                  Traceback (most recent call last)",
      "\u001b[0;32m<ipython-input-3-6676234c5fe7>\u001b[0m in \u001b[0;36m<module>\u001b[0;34m()\u001b[0m\n\u001b[1;32m     71\u001b[0m \u001b[0;32mwhile\u001b[0m \u001b[0;36m1\u001b[0m\u001b[0;34m:\u001b[0m\u001b[0;34m\u001b[0m\u001b[0m\n\u001b[1;32m     72\u001b[0m     \u001b[0;32mif\u001b[0m \u001b[0;34m(\u001b[0m\u001b[0mball\u001b[0m\u001b[0;34m.\u001b[0m\u001b[0mhit_bottom\u001b[0m \u001b[0;34m==\u001b[0m \u001b[0;32mFalse\u001b[0m\u001b[0;34m)\u001b[0m\u001b[0;34m:\u001b[0m\u001b[0;34m\u001b[0m\u001b[0m\n\u001b[0;32m---> 73\u001b[0;31m         \u001b[0mball\u001b[0m\u001b[0;34m.\u001b[0m\u001b[0mdraw\u001b[0m\u001b[0;34m(\u001b[0m\u001b[0;34m)\u001b[0m\u001b[0;34m\u001b[0m\u001b[0m\n\u001b[0m\u001b[1;32m     74\u001b[0m         \u001b[0mpaddle\u001b[0m\u001b[0;34m.\u001b[0m\u001b[0mdraw\u001b[0m\u001b[0;34m(\u001b[0m\u001b[0;34m)\u001b[0m\u001b[0;34m\u001b[0m\u001b[0m\n\u001b[1;32m     75\u001b[0m     \u001b[0;31m#else:\u001b[0m\u001b[0;34m\u001b[0m\u001b[0;34m\u001b[0m\u001b[0m\n",
      "\u001b[0;32m<ipython-input-3-6676234c5fe7>\u001b[0m in \u001b[0;36mdraw\u001b[0;34m(self)\u001b[0m\n\u001b[1;32m     18\u001b[0m         \u001b[0mself\u001b[0m\u001b[0;34m.\u001b[0m\u001b[0mhit_bottom\u001b[0m \u001b[0;34m=\u001b[0m \u001b[0;32mFalse\u001b[0m\u001b[0;34m\u001b[0m\u001b[0m\n\u001b[1;32m     19\u001b[0m     \u001b[0;32mdef\u001b[0m \u001b[0mdraw\u001b[0m\u001b[0;34m(\u001b[0m\u001b[0mself\u001b[0m\u001b[0;34m)\u001b[0m\u001b[0;34m:\u001b[0m\u001b[0;34m\u001b[0m\u001b[0m\n\u001b[0;32m---> 20\u001b[0;31m         \u001b[0mself\u001b[0m\u001b[0;34m.\u001b[0m\u001b[0mcanvas\u001b[0m\u001b[0;34m.\u001b[0m\u001b[0mmove\u001b[0m\u001b[0;34m(\u001b[0m\u001b[0mself\u001b[0m\u001b[0;34m.\u001b[0m\u001b[0mid\u001b[0m\u001b[0;34m,\u001b[0m \u001b[0mself\u001b[0m\u001b[0;34m.\u001b[0m\u001b[0mx\u001b[0m\u001b[0;34m,\u001b[0m \u001b[0mself\u001b[0m\u001b[0;34m.\u001b[0m\u001b[0my\u001b[0m\u001b[0;34m)\u001b[0m\u001b[0;34m\u001b[0m\u001b[0m\n\u001b[0m\u001b[1;32m     21\u001b[0m         \u001b[0mpos\u001b[0m \u001b[0;34m=\u001b[0m \u001b[0mself\u001b[0m\u001b[0;34m.\u001b[0m\u001b[0mcanvas\u001b[0m\u001b[0;34m.\u001b[0m\u001b[0mcoords\u001b[0m\u001b[0;34m(\u001b[0m\u001b[0mself\u001b[0m\u001b[0;34m.\u001b[0m\u001b[0mid\u001b[0m\u001b[0;34m)\u001b[0m\u001b[0;31m#top-left bottom-right\u001b[0m\u001b[0;34m\u001b[0m\u001b[0m\n\u001b[1;32m     22\u001b[0m         \u001b[0;32mif\u001b[0m \u001b[0;34m(\u001b[0m\u001b[0mpos\u001b[0m\u001b[0;34m[\u001b[0m\u001b[0;36m1\u001b[0m\u001b[0;34m]\u001b[0m \u001b[0;34m<=\u001b[0m \u001b[0;36m0\u001b[0m\u001b[0;34m)\u001b[0m\u001b[0;34m:\u001b[0m\u001b[0;34m\u001b[0m\u001b[0m\n",
      "\u001b[0;32m/anaconda3/lib/python3.6/tkinter/__init__.py\u001b[0m in \u001b[0;36mmove\u001b[0;34m(self, *args)\u001b[0m\n\u001b[1;32m   2583\u001b[0m     \u001b[0;32mdef\u001b[0m \u001b[0mmove\u001b[0m\u001b[0;34m(\u001b[0m\u001b[0mself\u001b[0m\u001b[0;34m,\u001b[0m \u001b[0;34m*\u001b[0m\u001b[0margs\u001b[0m\u001b[0;34m)\u001b[0m\u001b[0;34m:\u001b[0m\u001b[0;34m\u001b[0m\u001b[0m\n\u001b[1;32m   2584\u001b[0m         \u001b[0;34m\"\"\"Move an item TAGORID given in ARGS.\"\"\"\u001b[0m\u001b[0;34m\u001b[0m\u001b[0m\n\u001b[0;32m-> 2585\u001b[0;31m         \u001b[0mself\u001b[0m\u001b[0;34m.\u001b[0m\u001b[0mtk\u001b[0m\u001b[0;34m.\u001b[0m\u001b[0mcall\u001b[0m\u001b[0;34m(\u001b[0m\u001b[0;34m(\u001b[0m\u001b[0mself\u001b[0m\u001b[0;34m.\u001b[0m\u001b[0m_w\u001b[0m\u001b[0;34m,\u001b[0m \u001b[0;34m'move'\u001b[0m\u001b[0;34m)\u001b[0m \u001b[0;34m+\u001b[0m \u001b[0margs\u001b[0m\u001b[0;34m)\u001b[0m\u001b[0;34m\u001b[0m\u001b[0m\n\u001b[0m\u001b[1;32m   2586\u001b[0m     \u001b[0;32mdef\u001b[0m \u001b[0mpostscript\u001b[0m\u001b[0;34m(\u001b[0m\u001b[0mself\u001b[0m\u001b[0;34m,\u001b[0m \u001b[0mcnf\u001b[0m\u001b[0;34m=\u001b[0m\u001b[0;34m{\u001b[0m\u001b[0;34m}\u001b[0m\u001b[0;34m,\u001b[0m \u001b[0;34m**\u001b[0m\u001b[0mkw\u001b[0m\u001b[0;34m)\u001b[0m\u001b[0;34m:\u001b[0m\u001b[0;34m\u001b[0m\u001b[0m\n\u001b[1;32m   2587\u001b[0m         \"\"\"Print the contents of the canvas to a postscript\n",
      "\u001b[0;31mTclError\u001b[0m: invalid command name \".!canvas\""
     ]
    }
   ],
   "source": [
    "from tkinter import *\n",
    "import matplotlib\n",
    "matplotlib.use('Agg')\n",
    "import random\n",
    "import time\n",
    "class Ball:\n",
    "    def __init__(self, canvas, paddle, color):\n",
    "        self.canvas = canvas\n",
    "        self.paddle = paddle\n",
    "        self.id = canvas.create_oval(10, 10, 25, 25, fill=color)\n",
    "        self.canvas.move(self.id, 245, 100)\n",
    "        startx = [-3, -2, -1, 1, 2, 3]\n",
    "        random.shuffle(startx)\n",
    "        self.x = startx[0]\n",
    "        self.y = -3\n",
    "        self.canvas_height = self.canvas.winfo_height()\n",
    "        self.canvas_width = self.canvas.winfo_width()\n",
    "        self.hit_bottom = False\n",
    "    def draw(self):\n",
    "        self.canvas.move(self.id, self.x, self.y)\n",
    "        pos = self.canvas.coords(self.id)#top-left bottom-right\n",
    "        if (pos[1] <= 0):\n",
    "            self.y = 3\n",
    "        if (pos[0] <= 0):\n",
    "            self.x = 3\n",
    "        if (pos[2]>=self.canvas_width): \n",
    "            self.x=-3\n",
    "        if (self.hit_paddle(pos)==True):\n",
    "            self.y=-3\n",
    "        if (pos[3] >= self.canvas_height):\n",
    "            self.hit_bottom = True\n",
    "            \n",
    "    def hit_paddle(self, pos):\n",
    "        paddle_pos = self.canvas.coords(self.paddle.id)\n",
    "        if (pos[2] >= paddle_pos[0] and pos[0] <= paddle_pos[2]):\n",
    "            if (pos[3] >= paddle_pos[1] and pos[3] <= paddle_pos[3]):\n",
    "                return True\n",
    "            return False\n",
    "class Paddle:\n",
    "    def __init__(self, canvas, color):\n",
    "        self.canvas = canvas\n",
    "        self.id = canvas.create_rectangle(0, 0, 150, 10, fill = color)\n",
    "        self.x = 0\n",
    "        self.canvas.move(self.id, 200, 350)\n",
    "        self.canvas_width = self.canvas.winfo_width()\n",
    "        self.canvas.bind_all(\"<Key-Left>\", self.turn_left)\n",
    "        self.canvas.bind_all(\"<Key-Right>\", self.turn_right)\n",
    "    def draw(self):\n",
    "        self.canvas.move(self.id,self.x,0)\n",
    "        pos = self.canvas.coords(self.id)\n",
    "        if (pos[0]<=0):\n",
    "            self.x=0\n",
    "        elif (pos[2] >=self.canvas_width):\n",
    "            self.x=0\n",
    "        #if (pos[0] + self.x >= 0 and pos[2] + self.x <= self.canvas_width):\n",
    "            #self.canvas.move(self.id, self.x, 0)\n",
    "    #self.x = 0\n",
    "    def turn_left(self, event):\n",
    "        self.x = -2\n",
    "    def turn_right(self, event):\n",
    "        self.x = 2\n",
    "tk = Tk()\n",
    "tk.title(\"Game\")\n",
    "tk.resizable(0, 0)\n",
    "tk.wm_attributes(\"-topmost\", 1)\n",
    "canvas = Canvas(tk, width = 500, height = 500, bd = 0, highlightthickness = 0)\n",
    "canvas.pack()\n",
    "tk.update()#init\n",
    "paddle = Paddle(canvas, 'blue')\n",
    "ball = Ball(canvas, paddle, 'red')\n",
    "while 1:\n",
    "    if (ball.hit_bottom == False):\n",
    "        ball.draw()\n",
    "        paddle.draw()\n",
    "    #else:\n",
    "        #break\n",
    "    tk.update_idletasks()\n",
    "    tk.update()\n",
    "    time.sleep(0.01)"
   ]
  }
 ],
 "metadata": {
  "kernelspec": {
   "display_name": "Python 3",
   "language": "python",
   "name": "python3"
  },
  "language_info": {
   "codemirror_mode": {
    "name": "ipython",
    "version": 3
   },
   "file_extension": ".py",
   "mimetype": "text/x-python",
   "name": "python",
   "nbconvert_exporter": "python",
   "pygments_lexer": "ipython3",
   "version": "3.6.4"
  }
 },
 "nbformat": 4,
 "nbformat_minor": 2
}
