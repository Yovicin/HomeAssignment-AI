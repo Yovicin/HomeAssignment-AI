{
 "cells": [
  {
   "cell_type": "markdown",
   "metadata": {},
   "source": [
    "### Coding Questions\n",
    "1. Create a list of 5 fruits."
   ]
  },
  {
   "cell_type": "code",
   "execution_count": 2,
   "metadata": {},
   "outputs": [
    {
     "name": "stdout",
     "output_type": "stream",
     "text": [
      "['Apple', 'Orange', 'Pear', 'BlueBerry', 'Peach']\n"
     ]
    }
   ],
   "source": [
    "Fruits = ['Orange','Pear','Apple','BlueBerry','Peach']\n",
    "print (Fruits)"
   ]
  },
  {
   "cell_type": "markdown",
   "metadata": {},
   "source": [
    "2. Go through each fruit and check if it is an apple. If it is, print out \"I found it!\". If it's not an apple, do nothing."
   ]
  },
  {
   "cell_type": "code",
   "execution_count": 4,
   "metadata": {},
   "outputs": [
    {
     "name": "stdout",
     "output_type": "stream",
     "text": [
      "I found it\n"
     ]
    }
   ],
   "source": [
    "for i in Fruits:\n",
    "    if i == 'Apple':\n",
    "        print('I found it')"
   ]
  },
  {
   "cell_type": "markdown",
   "metadata": {},
   "source": [
    "3. Add two new fruits to your list."
   ]
  },
  {
   "cell_type": "code",
   "execution_count": 5,
   "metadata": {},
   "outputs": [
    {
     "name": "stdout",
     "output_type": "stream",
     "text": [
      "['Apple', 'Orange', 'Pear', 'BlueBerry', 'Peach', 'Pinapple', 'Bannana']\n"
     ]
    }
   ],
   "source": [
    "Fruits.append('Pinapple')\n",
    "Fruits.append('Bannana')\n",
    "print (Fruits)"
   ]
  },
  {
   "cell_type": "markdown",
   "metadata": {},
   "source": [
    "4. Create a new empty list. Go through your list of fruits, and for each one, add an entry to the new list that tells us how many letters each fruit name is."
   ]
  },
  {
   "cell_type": "code",
   "execution_count": 12,
   "metadata": {},
   "outputs": [
    {
     "name": "stdout",
     "output_type": "stream",
     "text": [
      "Apple has 5 letters\n",
      "\n",
      "Orange has 6 letters\n",
      "\n",
      "Pear has 4 letters\n",
      "\n",
      "BlueBerry has 9 letters\n",
      "\n",
      "Peach has 5 letters\n",
      "\n",
      "Pinapple has 8 letters\n",
      "\n",
      "Bannana has 7 letters\n",
      "\n"
     ]
    }
   ],
   "source": [
    "New_List = []\n",
    "for i in Fruits:\n",
    "    New_List.append(i+' has '+str(len(i))+' letters\\n')\n",
    "for i in New_List:\n",
    "    print (i)"
   ]
  },
  {
   "cell_type": "markdown",
   "metadata": {},
   "source": [
    "5. Make a function called half_squared that takes a list and returns a new list where each element of the original is squared and then divided in half."
   ]
  },
  {
   "cell_type": "code",
   "execution_count": 31,
   "metadata": {},
   "outputs": [],
   "source": [
    "def half_squared(List):\n",
    "    New_List = []\n",
    "    for i in List:\n",
    "        New_List.append(i*i/2)\n",
    "    return New_List"
   ]
  },
  {
   "cell_type": "code",
   "execution_count": 34,
   "metadata": {},
   "outputs": [
    {
     "data": {
      "text/plain": [
       "True"
      ]
     },
     "execution_count": 34,
     "metadata": {},
     "output_type": "execute_result"
    }
   ],
   "source": [
    "Test = [3,4,5,6]\n",
    "Predict_List = [4.5,8,12.5,18]\n",
    "Predict_List == half_squared(Test)"
   ]
  },
  {
   "cell_type": "markdown",
   "metadata": {},
   "source": [
    "6. Read the following program:"
   ]
  },
  {
   "cell_type": "code",
   "execution_count": null,
   "metadata": {},
   "outputs": [],
   "source": [
    "a = int((input(\"input first number: \"))\n",
    "b = int(input(\"input second number: \"))\n",
    "if(a > b):\n",
    "    print(a)\n",
    "else:\n",
    "    print(b)"
   ]
  },
  {
   "cell_type": "code",
   "execution_count": 54,
   "metadata": {},
   "outputs": [
    {
     "name": "stdout",
     "output_type": "stream",
     "text": [
      "input students score: 97\n",
      "A\n",
      "input students score: 66\n",
      "B\n",
      "input students score: 34\n",
      "C\n",
      "input students score: -6\n",
      "Error Score\n",
      "input students score: 105\n",
      "Error Score\n",
      "input students score: Quit\n",
      "You have successfully Quit the System.\n"
     ]
    }
   ],
   "source": [
    "while(True):\n",
    "    Scores = input('input students score: ')\n",
    "    if Scores == 'Quit':\n",
    "        print ('You have successfully Quit the System.')\n",
    "        break;\n",
    "    elif 100>=int(Scores)>=90:\n",
    "        print ('A')\n",
    "    elif 90>int(Scores)>60:\n",
    "        print ('B')\n",
    "    elif 60>=int(Scores)>=0:\n",
    "        print ('C')\n",
    "    elif int(Scores)<0 or int(Scores)>100:\n",
    "        print ('Error Score')\n"
   ]
  },
  {
   "cell_type": "markdown",
   "metadata": {},
   "source": [
    "7. Read the following program"
   ]
  },
  {
   "cell_type": "code",
   "execution_count": 55,
   "metadata": {},
   "outputs": [
    {
     "data": {
      "text/plain": [
       "(32, 12, 4)"
      ]
     },
     "execution_count": 55,
     "metadata": {},
     "output_type": "execute_result"
    }
   ],
   "source": [
    "def revSort(a,b,c):\n",
    "    a,b,c = c,a,b\n",
    "    return a,b,c\n",
    "revSort(12,4,32)"
   ]
  },
  {
   "cell_type": "markdown",
   "metadata": {},
   "source": [
    "8. Read the following program"
   ]
  },
  {
   "cell_type": "code",
   "execution_count": 57,
   "metadata": {},
   "outputs": [
    {
     "data": {
      "text/plain": [
       "[1, 2, 3, 4, 5, 6]"
      ]
     },
     "execution_count": 57,
     "metadata": {},
     "output_type": "execute_result"
    }
   ],
   "source": [
    "arrs = [[1,2,3],[4,5,6]]\n",
    "New_List = []\n",
    "New_List.extend(arrs[0])\n",
    "New_List.extend(arrs[1])\n",
    "New_List"
   ]
  },
  {
   "cell_type": "markdown",
   "metadata": {},
   "source": [
    "9. Read the following program"
   ]
  },
  {
   "cell_type": "code",
   "execution_count": 71,
   "metadata": {},
   "outputs": [
    {
     "name": "stdout",
     "output_type": "stream",
     "text": [
      "8\n",
      "18\n",
      "27\n",
      "8\n",
      "\n",
      "True\n",
      "True\n",
      "True\n",
      "The max num is 100. Error Number.\n"
     ]
    }
   ],
   "source": [
    "a = [8,18,27,101]\n",
    "def f(x):\n",
    "    return x**3\n",
    "Store_List = []\n",
    "for i in map(f,a):\n",
    "    i_list = [int(b) for b in str(i)]\n",
    "    Result = sum(i_list)\n",
    "    Store_List.append(Result)\n",
    "    print(Result)\n",
    "print()\n",
    "for i in range(0,len(a)):\n",
    "    if a[i]<=100 and a[i] == Store_List[i]:\n",
    "        print ('True')\n",
    "    elif a[i]>100:\n",
    "        print ('The max num is 100. Error Number.')"
   ]
  },
  {
   "cell_type": "markdown",
   "metadata": {},
   "source": [
    "10. Read the following program"
   ]
  },
  {
   "cell_type": "code",
   "execution_count": 73,
   "metadata": {},
   "outputs": [
    {
     "name": "stdout",
     "output_type": "stream",
     "text": [
      "x = 4\n",
      "y = 6\n"
     ]
    },
    {
     "data": {
      "text/plain": [
       "(6, 4)"
      ]
     },
     "execution_count": 73,
     "metadata": {},
     "output_type": "execute_result"
    }
   ],
   "source": [
    "import random\n",
    "def exchange(a,b):\n",
    "    a,b=b,a\n",
    "    return a,b\n",
    "x = random.randint(1,10)\n",
    "print ('x = '+ str(x))\n",
    "y = random.randint(1,10)\n",
    "print ('y = '+ str(y))\n",
    "exchange(x,y)\n"
   ]
  },
  {
   "cell_type": "markdown",
   "metadata": {},
   "source": [
    "11. Read the following program"
   ]
  },
  {
   "cell_type": "code",
   "execution_count": 93,
   "metadata": {},
   "outputs": [
    {
     "name": "stdout",
     "output_type": "stream",
     "text": [
      "   *\n",
      "\n",
      "  ***\n",
      "\n",
      " *****\n",
      "\n",
      "*******\n",
      "\n",
      " *****\n",
      "\n",
      "  ***\n",
      "\n",
      "   *\n",
      "\n"
     ]
    }
   ],
   "source": [
    "i = 1\n",
    "for i in range(1,8):\n",
    "    if i <= 4:\n",
    "        for j in range(4-i):\n",
    "            print (' ',end=\"\")\n",
    "        for j in range(2*i-1):\n",
    "            print ('*',end='')\n",
    "        print('\\n')\n",
    "    if i>4:\n",
    "        for j in range(i-4):\n",
    "            print (' ',end=\"\")\n",
    "        for j in range(2*(8-i)-1):\n",
    "            print ('*',end='')\n",
    "        print('\\n')"
   ]
  },
  {
   "cell_type": "markdown",
   "metadata": {},
   "source": [
    "12. Read the following program\n",
    "\n",
    "Please read following program,and find some rules.\n",
    "\n",
    "123456\n",
    "23456\n",
    "3456\n",
    "456\n",
    "56\n",
    "6"
   ]
  },
  {
   "cell_type": "code",
   "execution_count": null,
   "metadata": {},
   "outputs": [],
   "source": []
  },
  {
   "cell_type": "code",
   "execution_count": 94,
   "metadata": {},
   "outputs": [
    {
     "name": "stdout",
     "output_type": "stream",
     "text": [
      "123456\n",
      "234561\n",
      "345612\n",
      "456123\n",
      "561234\n",
      "612345\n"
     ]
    }
   ],
   "source": [
    "for i in range(1,7):\n",
    "    for j in range(i,7):\n",
    "        print(j,end='')\n",
    "    for j in range(1,i):\n",
    "        print(j,end='')\n",
    "    print()"
   ]
  },
  {
   "cell_type": "markdown",
   "metadata": {},
   "source": [
    "13. Read the following program"
   ]
  },
  {
   "cell_type": "code",
   "execution_count": 1,
   "metadata": {},
   "outputs": [
    {
     "name": "stdout",
     "output_type": "stream",
     "text": [
      "['Martina', 'Michael', 'Florence']\n",
      "['Charles', 'Martina']\n",
      "['Michael', 'Florence', 'Eli']\n",
      "['Michael', 'Florence']\n"
     ]
    }
   ],
   "source": [
    "players = ['charles','martina','michael','florence','eli']\n",
    "for i in range(0,len(players)):\n",
    "    players[i]=players[i].title()\n",
    "print(players[1:4])\n",
    "print(players[:2])\n",
    "print(players[2:])\n",
    "print(players[-3:-1])"
   ]
  }
 ],
 "metadata": {
  "kernelspec": {
   "display_name": "Python 3",
   "language": "python",
   "name": "python3"
  },
  "language_info": {
   "codemirror_mode": {
    "name": "ipython",
    "version": 3
   },
   "file_extension": ".py",
   "mimetype": "text/x-python",
   "name": "python",
   "nbconvert_exporter": "python",
   "pygments_lexer": "ipython3",
   "version": "3.6.4"
  }
 },
 "nbformat": 4,
 "nbformat_minor": 2
}
