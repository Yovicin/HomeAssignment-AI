{
 "cells": [
  {
   "cell_type": "markdown",
   "metadata": {},
   "source": [
    "## Practical 4 \n",
    "### 11510726 毛煦冰"
   ]
  },
  {
   "cell_type": "markdown",
   "metadata": {},
   "source": [
    "##### Symbolize the following proposition and discuss the truth.\n",
    "1. ∀x(F(x)⇒G(x)) \n",
    "   F(x) means x is a human.  \n",
    "   G(x) means someone has black hair.  \n",
    "   It is FAlSE.  \n",
    "2. ∃x(F(x)∧G(x))   \n",
    "   F(x) means x is a human.     \n",
    "   G(x) means x boarded the moon.    \n",
    "   It is TRUE.  \n",
    "3. ￢x(F(x)∧G(x))  \n",
    "   F(x) means x is a human.   \n",
    "   G(x) means x has boarded Jupiter.   \n",
    "   It is FALSE.  \n",
    "4. ￢x(F(x)⇒G(x))  \n",
    "   F(x) means x is a student studying in US.   \n",
    "   G(x) means x is am Asian.   \n",
    "   It is TRUE.  "
   ]
  },
  {
   "cell_type": "markdown",
   "metadata": {},
   "source": [
    "##### Judge the following formula, which is tautology? What is the contradiction?\n",
    "1. Tautology\n",
    "2. Contradiction\n",
    "3. Not Tautology, Not Contradiction either."
   ]
  },
  {
   "cell_type": "markdown",
   "metadata": {},
   "source": [
    "##### Which of the following are correct?\n",
    "1. True\n",
    "2. True\n",
    "3. True\n",
    "4. True\n",
    "5. False"
   ]
  },
  {
   "cell_type": "markdown",
   "metadata": {},
   "source": [
    "##### Conjunctive normal \n",
    "P∧(Q⇒R)⇒S  \n",
    "=￢(P∧(￢Q∨R))∨S  \n",
    "=￢P∨(Q∧￢R)∨S  \n",
    "=￢P∨S∨(Q∧￢R)\n",
    "=(￢P∨S∨Q)∧(￢P∨S∨￢R)  "
   ]
  },
  {
   "cell_type": "markdown",
   "metadata": {},
   "source": [
    "##### Arithmetic assertions can be written in first-order logic with the predicate symbol <,the function symbols + and ×, and the constant symbols 0 and 1. Additional predicates can also be defined with biconditionals.(Chapter 8.20)\n",
    "1. ∀xF(x) ⇔ ∃yx=y+y.  F(x) means x is an even number.\n",
    "2. ∀xF(x) ⇔ ∀y,zx=y×z ⇒ y=1∨z =1. F(x) means x is prime.\n",
    "3. ∀xF(x) ⇒ ∃y,zF(y)∧F(z)∧x=y+z. F(x) means x is "
   ]
  }
 ],
 "metadata": {
  "kernelspec": {
   "display_name": "Python 3",
   "language": "python",
   "name": "python3"
  },
  "language_info": {
   "codemirror_mode": {
    "name": "ipython",
    "version": 3
   },
   "file_extension": ".py",
   "mimetype": "text/x-python",
   "name": "python",
   "nbconvert_exporter": "python",
   "pygments_lexer": "ipython3",
   "version": "3.6.4"
  }
 },
 "nbformat": 4,
 "nbformat_minor": 2
}
